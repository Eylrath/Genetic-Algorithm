{
 "cells": [
  {
   "cell_type": "code",
   "execution_count": 1,
   "metadata": {},
   "outputs": [],
   "source": [
    "import numpy as np\n",
    "import random as random"
   ]
  },
  {
   "cell_type": "code",
   "execution_count": 2,
   "metadata": {},
   "outputs": [
    {
     "name": "stdout",
     "output_type": "stream",
     "text": [
      "0b10100\n",
      "10100\n"
     ]
    }
   ],
   "source": [
    "print(bin(20))\n",
    "print(bin(20)[2:])"
   ]
  },
  {
   "cell_type": "code",
   "execution_count": 3,
   "metadata": {},
   "outputs": [
    {
     "name": "stdout",
     "output_type": "stream",
     "text": [
      "0606161\n"
     ]
    }
   ],
   "source": [
    "osobnik = ['0', '0', '1', '1'] #osobnik to lista binarna w stringu\n",
    "\n",
    "\"\".join(osobnik) #wszystkie elementy listy scalamy w jeden, ale muszą być puste \"\"\n",
    "print (\"6\".join(osobnik))\n",
    "# int(\"\".join(osobnik), 2) # zamienia na liczbę niebinarną\n"
   ]
  },
  {
   "cell_type": "code",
   "execution_count": 4,
   "metadata": {},
   "outputs": [],
   "source": [
    "dlugosc_osobnika = 12\n",
    "populacja = 2**dlugosc_osobnika\n",
    "populacja_startowa = 100\n",
    "from random import choices"
   ]
  },
  {
   "cell_type": "code",
   "execution_count": 126,
   "metadata": {},
   "outputs": [],
   "source": [
    "\n",
    "\n",
    "def stworz_osobnika(dlugosc, populacja):\n",
    "    osobnik = np.random.randint(populacja)\n",
    "    osobnik_L = [x for x in bin(osobnik)[2:]] \n",
    "    while len(osobnik_L) < dlugosc:\n",
    "        osobnik_L = [\"0\"] + osobnik_L\n",
    "    return osobnik_L\n",
    "\n",
    "def stworz_populacje(populacja_s, populacja, dlugosc):\n",
    "    P = []\n",
    "    while(len(P) < populacja_s):\n",
    "        P.append(stworz_osobnika(dlugosc, populacja))\n",
    "    return P\n",
    "\n",
    "def oblicz_wartosc(osobnik):\n",
    "    osobnik_int = int(\"\".join(osobnik), 2) #zamienia stringowe wartosci na int, potem na liczbę niebinarną (string dwójkowy na int)\n",
    "    return osobnik_int\n",
    "\n",
    "def funkcja_celu(x):\n",
    "#     if x < 128:\n",
    "#         return x\n",
    "#     else:\n",
    "#         return 256 - x\n",
    "    return -(x - 128)**4 + 128**4 # ta f ma max w 2048 (środek)\n",
    "\n",
    "values = [0,1]\n",
    "prob_list = [None, None]\n",
    "\n",
    "def set_probability(prob_of_one):\n",
    "    prob_list = [1-prob_of_one, prob_of_one]\n",
    "    return prob_list\n",
    "\n",
    "\n",
    "def krzyzowanie(rodz1, rodz2, dlugosc):\n",
    "    prob = choices(values, prob_list)\n",
    "    if prob[0]==1:\n",
    "        przeciecie = np.random.randint(1, dlugosc)\n",
    "        pot1 = rodz1[:przeciecie] + rodz2[przeciecie:]\n",
    "        pot2 = rodz2[:przeciecie] + rodz1[przeciecie:]\n",
    "        return pot1, pot2\n",
    "    return rodz1, rodz2\n",
    "\n",
    "def wypisz_populacje(P):\n",
    "    idx = 0\n",
    "    for osobnik in P:\n",
    "        x = oblicz_wartosc(osobnik)\n",
    "        print(idx, x, funkcja_celu(x))\n",
    "        idx+=1"
   ]
  },
  {
   "cell_type": "code",
   "execution_count": 127,
   "metadata": {},
   "outputs": [
    {
     "data": {
      "text/plain": [
       "[4]"
      ]
     },
     "execution_count": 127,
     "metadata": {},
     "output_type": "execute_result"
    }
   ],
   "source": [
    "wartosci = [1,2,3,4]\n",
    "prawdopodobienstwo = [0.1, 0.3, 0.2,0.4]\n",
    "\n",
    "# random.choices\n",
    "choices(wartosci, prawdopodobienstwo)"
   ]
  },
  {
   "cell_type": "code",
   "execution_count": 128,
   "metadata": {},
   "outputs": [
    {
     "data": {
      "text/plain": [
       "1.0"
      ]
     },
     "execution_count": 128,
     "metadata": {},
     "output_type": "execute_result"
    }
   ],
   "source": [
    "def child_parent_changes(children, parents):\n",
    "    sum_of_mutual = 0\n",
    "    for child in children:\n",
    "        sum_of_mutual += (child in parents)\n",
    "    return sum_of_mutual / len(children)\n",
    "\n",
    "\n",
    "child_parent_changes([0,3,4,5], [5,3,4,0])"
   ]
  },
  {
   "cell_type": "code",
   "execution_count": 129,
   "metadata": {
    "scrolled": false
   },
   "outputs": [
    {
     "name": "stdout",
     "output_type": "stream",
     "text": [
      "[0.30000000000000004, 0.7]\n"
     ]
    }
   ],
   "source": [
    "prob_list = set_probability(0.7)\n",
    "print(prob_list)"
   ]
  },
  {
   "cell_type": "code",
   "execution_count": 130,
   "metadata": {},
   "outputs": [
    {
     "name": "stdout",
     "output_type": "stream",
     "text": [
      "EPOKI: 1001\n",
      "0 131 4050826671\n",
      "1 97 3655838335\n",
      "2 202 4286464240\n",
      "3 226 4294157296\n",
      "4 109 3828018415\n",
      "5 46 2350157296\n",
      "6 49 2458930495\n",
      "7 69 3072136335\n"
     ]
    }
   ],
   "source": [
    "dlugosc_osobnika = 8\n",
    "populacja = 2**dlugosc_osobnika\n",
    "populacja_startowa = 8\n",
    "NUMBER_OF_EPOCHS = 1000\n",
    "EPOCH = 1\n",
    "\n",
    "dlugosc_braku_zmian = 0\n",
    "\n",
    "P = stworz_populacje(populacja_startowa, populacja, dlugosc_osobnika)\n",
    "\n",
    "# wypisz_populacje(P)\n",
    "while EPOCH <= NUMBER_OF_EPOCHS:\n",
    "    #stworzyliśmy naszą populację\n",
    "    #P += [[\"1\"] + [\"0\" for i in range(11)]] # sztuczne dodanie osobnika z 1 i 11-oma zerami - to jest nasze maximum funkcji celu\n",
    "    suma = 0\n",
    "\n",
    "    #mamy zawsze do czynienia z przedziałem domkniętym i na nim szukamy maksimum (normalnie funkcji liniowej)\n",
    "\n",
    "    for osobnik in P:\n",
    "        x = oblicz_wartosc(osobnik)\n",
    "    #     print(x, osobnik)\n",
    "        suma += funkcja_celu(x)  ##mianownik do wyliczania metodą ruletki\n",
    "\n",
    "    LW = []  ##przedziały na ruletce (ile zajmuje kazdy osobnik)\n",
    "    for osobnik in P:\n",
    "        x = oblicz_wartosc(osobnik)\n",
    "        f_x = funkcja_celu(x) / suma * 100\n",
    "    #     print(x, f_x)\n",
    "        LW.append(f_x)\n",
    "    # \n",
    "    #LW = np.array(LW)  ##tworzymy przedziału (punkty podziału) na ruletce\n",
    "    for i in range(1,len(LW)):\n",
    "        LW[i] += LW[i-1]\n",
    "    LW = [0] + LW\n",
    "    rodzice = []\n",
    "    for i in range(populacja_startowa):  \n",
    "        rodzic = np.random.uniform(0,100)  ## losowanie rozkładem jednostajnym (żeby były równe szanse)\n",
    "        for ii in range (1,len(LW)):\n",
    "            if rodzic<=LW[ii] and rodzic>LW[ii-1]:\n",
    "                rodzice.append(ii-1)\n",
    "    pary = []\n",
    "    for i in range(populacja_startowa // 2):\n",
    "        element1 = np.random.randint(len(P))\n",
    "        element1 = P.pop(element1)  ##usunięcie i zwrócenie tego elementu\n",
    "        element2 = np.random.randint(len(P))\n",
    "        element2 = P.pop(element2)\n",
    "        pary.append([element1, element2])\n",
    "    potomkowie = []\n",
    "    for para in pary:\n",
    "#         print (para[0], para[1])\n",
    "        try:\n",
    "            p1, p2 = krzyzowanie(para[0],para[1],dlugosc_osobnika)\n",
    "            potomkowie += [p1, p2]\n",
    "        except:\n",
    "            print(para[0], para[1], dlugosc_osobnika)\n",
    "    EPOCH += 1\n",
    "    \n",
    "#     wartosc_zmiany = child_parent_changes(potomkowie, P)\n",
    "#     if wartosc_zmiany > 0.5:\n",
    "#         dlugosc_braku_zmian += 1\n",
    "#     else:\n",
    "#         dlugosc_braku_zmian = 0\n",
    "    P = potomkowie\n",
    "    \n",
    "#     if dlugosc_braku_zmian > 3:\n",
    "#         break\n",
    "    \n",
    "    if any([oblicz_wartosc(p) for p in P]) == 2048:\n",
    "        break\n",
    "\n",
    "print(\"EPOKI: {}\".format(EPOCH))\n",
    "wypisz_populacje(P)\n",
    "\n",
    "\n",
    "\n"
   ]
  },
  {
   "cell_type": "code",
   "execution_count": 131,
   "metadata": {},
   "outputs": [
    {
     "data": {
      "text/plain": [
       "-10307921510400"
      ]
     },
     "execution_count": 131,
     "metadata": {},
     "output_type": "execute_result"
    }
   ],
   "source": [
    "funkcja_celu(2048)"
   ]
  },
  {
   "cell_type": "code",
   "execution_count": 132,
   "metadata": {},
   "outputs": [
    {
     "data": {
      "text/plain": [
       "[['1', '0', '0', '0', '0', '0', '1', '1'],\n",
       " ['0', '1', '1', '0', '0', '0', '0', '1'],\n",
       " ['1', '1', '0', '0', '1', '0', '1', '0'],\n",
       " ['1', '1', '1', '0', '0', '0', '1', '0'],\n",
       " ['0', '1', '1', '0', '1', '1', '0', '1'],\n",
       " ['0', '0', '1', '0', '1', '1', '1', '0'],\n",
       " ['0', '0', '1', '1', '0', '0', '0', '1'],\n",
       " ['0', '1', '0', '0', '0', '1', '0', '1']]"
      ]
     },
     "execution_count": 132,
     "metadata": {},
     "output_type": "execute_result"
    }
   ],
   "source": [
    "P"
   ]
  },
  {
   "cell_type": "code",
   "execution_count": 133,
   "metadata": {},
   "outputs": [
    {
     "data": {
      "text/plain": [
       "[['1', '1', '1', '0', '1', '0', '0', '1', '0', '0', '0', '0'],\n",
       " ['1', '0', '0', '1', '0', '1', '0', '0', '1', '1', '1', '1'],\n",
       " ['0', '0', '1', '0', '0', '0', '0', '1', '0', '1', '1', '0'],\n",
       " ['1', '0', '0', '1', '1', '0', '0', '1', '1', '1', '0', '1'],\n",
       " ['1', '1', '0', '1', '0', '0', '1', '1', '1', '0', '0', '1'],\n",
       " ['0', '0', '1', '1', '0', '1', '0', '0', '0', '1', '0', '0'],\n",
       " ['1', '1', '1', '1', '0', '1', '0', '0', '1', '1', '0', '1'],\n",
       " ['1', '0', '1', '0', '0', '1', '1', '1', '0', '0', '0', '0'],\n",
       " ['1', '1', '1', '0', '0', '0', '0', '1', '1', '1', '1', '1'],\n",
       " ['0', '0', '1', '0', '1', '1', '1', '0', '1', '1', '0', '0']]"
      ]
     },
     "execution_count": 133,
     "metadata": {},
     "output_type": "execute_result"
    }
   ],
   "source": [
    "tempP"
   ]
  },
  {
   "cell_type": "code",
   "execution_count": 134,
   "metadata": {},
   "outputs": [
    {
     "name": "stdout",
     "output_type": "stream",
     "text": [
      "0 3728 -145313522319360\n",
      "1 2383 -20463448241345\n",
      "2 534 -1677849360\n",
      "3 2461 -23634992133329\n",
      "4 3385 -95852356223585\n",
      "5 836 -108869992704\n",
      "6 3917 -179633996364945\n",
      "7 2672 -34066927779840\n",
      "8 3615 -127299108692865\n",
      "9 748 -54300012800\n"
     ]
    }
   ],
   "source": [
    "wypisz_populacje(tempP)"
   ]
  },
  {
   "cell_type": "code",
   "execution_count": 135,
   "metadata": {},
   "outputs": [
    {
     "name": "stdout",
     "output_type": "stream",
     "text": [
      "0 131 4050826671\n",
      "1 97 3655838335\n",
      "2 202 4286464240\n",
      "3 226 4294157296\n",
      "4 109 3828018415\n",
      "5 46 2350157296\n",
      "6 49 2458930495\n",
      "7 69 3072136335\n"
     ]
    }
   ],
   "source": [
    "wypisz_populacje(P)"
   ]
  },
  {
   "cell_type": "code",
   "execution_count": 136,
   "metadata": {},
   "outputs": [
    {
     "name": "stdout",
     "output_type": "stream",
     "text": [
      "x:131, f(x):14.469031711004973, (0, 14.469031711004973)\n",
      "x:97, f(x):13.058184191910744, (14.469031711004973, 27.527215902915717)\n",
      "x:202, f(x):15.310698791597058, (27.527215902915717, 42.837914694512776)\n",
      "x:226, f(x):15.338177397881406, (42.837914694512776, 58.176092092394185)\n",
      "x:109, f(x):13.673189285897738, (58.176092092394185, 71.84928137829192)\n",
      "x:46, f(x):8.394459502578332, (71.84928137829192, 80.24374088087025)\n",
      "x:49, f(x):8.782983375225278, (80.24374088087025, 89.02672425609552)\n",
      "x:69, f(x):10.973275743904471, (89.02672425609552, 99.99999999999999)\n"
     ]
    }
   ],
   "source": [
    "#stworzyliśmy naszą populację\n",
    "# P += [[\"1\"] + [\"0\" for i in range(11)]] # sztuczne dodanie osobnika z 1 i 11-oma zerami - to jest nasze maximum funkcji celu\n",
    "suma = 0\n",
    "\n",
    "#mamy zawsze do czynienia z przedziałem domkniętym i na nim szukamy maksimum (normalnie funkcji liniowej)\n",
    "\n",
    "for osobnik in P:\n",
    "    x = oblicz_wartosc(osobnik)\n",
    "#     print(x, osobnik)\n",
    "    suma += funkcja_celu(x)  ##mianownik do wyliczania metodą ruletki\n",
    "PW = []\n",
    "LW = []  ##przedziały na ruletce (ile zajmuje kazdy osobnik)\n",
    "for osobnik in P:\n",
    "    x = oblicz_wartosc(osobnik)\n",
    "    f_x = funkcja_celu(x) / suma * 100\n",
    "#     print(x, f_x)\n",
    "    LW.append(f_x)\n",
    "    PW.append(f_x)\n",
    "# \n",
    "#LW = np.array(LW)  ##tworzymy przedziału (punkty podziału) na ruletce\n",
    "for i in range(1,len(LW)):\n",
    "    LW[i] += LW[i-1]\n",
    "\n",
    "\n",
    "LW = [0] + LW\n",
    "for i in range(len(P)):\n",
    "    print(\"x:{}, f(x):{}, ({}, {})\".format(oblicz_wartosc(P[i]),PW[i], LW[i], LW[i+1]))\n",
    "rodzice = []\n",
    "for i in range(populacja_startowa):  \n",
    "    rodzic = np.random.uniform(0,100)  ## losowanie rozkładem jednostajnym (żeby były równe szanse)\n",
    "    for ii in range (1,len(LW)):\n",
    "        if rodzic >= LW[ii-1] and rodzic < LW[ii]:\n",
    "            rodzice.append(ii-1)\n",
    "pary = []\n",
    "for i in range(populacja_startowa // 2):\n",
    "    element1 = np.random.randint(len(P))\n",
    "    element1 = P.pop(element1)  ##usunięcie i zwrócenie tego elementu\n",
    "    element2 = np.random.randint(len(P))\n",
    "    element2 = P.pop(element2)\n",
    "    pary.append([element1, element2])\n",
    "potomkowie = []\n",
    "for para in pary:\n",
    "#         print (para[0], para[1])\n",
    "    p1, p2 = krzyzowanie(para[0],para[1],12)\n",
    "    potomkowie += [p1, p2]\n",
    "EPOCH += 1\n",
    "\n",
    "wartosc_zmiany = child_parent_changes(potomkowie, P)\n",
    "if wartosc_zmiany > 0.5:\n",
    "    dlugosc_braku_zmian += 1\n",
    "else:\n",
    "    dlugosc_braku_zmian = 0\n",
    "P = potomkowie\n"
   ]
  },
  {
   "cell_type": "code",
   "execution_count": 124,
   "metadata": {},
   "outputs": [
    {
     "ename": "IndexError",
     "evalue": "list index out of range",
     "output_type": "error",
     "traceback": [
      "\u001b[1;31m---------------------------------------------------------------------------\u001b[0m",
      "\u001b[1;31mIndexError\u001b[0m                                Traceback (most recent call last)",
      "\u001b[1;32m<ipython-input-124-80f9d0d323b2>\u001b[0m in \u001b[0;36m<module>\u001b[1;34m\u001b[0m\n\u001b[0;32m      1\u001b[0m \u001b[1;31m# wypisz_populacje(P) 34, 38\u001b[0m\u001b[1;33m\u001b[0m\u001b[1;33m\u001b[0m\u001b[1;33m\u001b[0m\u001b[0m\n\u001b[1;32m----> 2\u001b[1;33m \u001b[0mLW\u001b[0m\u001b[1;33m[\u001b[0m\u001b[1;36m33\u001b[0m\u001b[1;33m]\u001b[0m\u001b[1;33m,\u001b[0m \u001b[0mLW\u001b[0m\u001b[1;33m[\u001b[0m\u001b[1;36m34\u001b[0m\u001b[1;33m]\u001b[0m\u001b[1;33m,\u001b[0m \u001b[0mLW\u001b[0m\u001b[1;33m[\u001b[0m\u001b[1;36m35\u001b[0m\u001b[1;33m]\u001b[0m\u001b[1;33m\u001b[0m\u001b[1;33m\u001b[0m\u001b[0m\n\u001b[0m",
      "\u001b[1;31mIndexError\u001b[0m: list index out of range"
     ]
    }
   ],
   "source": [
    "# wypisz_populacje(P) 34, 38\n",
    "LW[33], LW[34], LW[35]"
   ]
  },
  {
   "cell_type": "code",
   "execution_count": 125,
   "metadata": {},
   "outputs": [
    {
     "name": "stdout",
     "output_type": "stream",
     "text": [
      "8, Touche\n"
     ]
    }
   ],
   "source": [
    "rodzic = 100.\n",
    "for i in range(len(LW)):\n",
    "    if rodzic<=LW[i] and rodzic>=LW[i-1]:\n",
    "        print(\"{}, Touche\".format(i))"
   ]
  },
  {
   "cell_type": "code",
   "execution_count": null,
   "metadata": {},
   "outputs": [],
   "source": []
  }
 ],
 "metadata": {
  "kernelspec": {
   "display_name": "Python 3",
   "language": "python",
   "name": "python3"
  },
  "language_info": {
   "codemirror_mode": {
    "name": "ipython",
    "version": 3
   },
   "file_extension": ".py",
   "mimetype": "text/x-python",
   "name": "python",
   "nbconvert_exporter": "python",
   "pygments_lexer": "ipython3",
   "version": "3.8.5"
  }
 },
 "nbformat": 4,
 "nbformat_minor": 4
}
